{
 "cells": [
  {
   "cell_type": "code",
   "execution_count": 1,
   "metadata": {},
   "outputs": [],
   "source": [
    "import numpy as np\n",
    "import SimpleITK as sitk\n",
    "import os"
   ]
  },
  {
   "cell_type": "code",
   "execution_count": 2,
   "metadata": {},
   "outputs": [],
   "source": [
    "file_path = r'D:/Transmorph_Frame/Data/多模态配准检验点/'\n",
    "file_names = os.listdir(file_path)"
   ]
  },
  {
   "cell_type": "code",
   "execution_count": 3,
   "metadata": {},
   "outputs": [
    {
     "name": "stdout",
     "output_type": "stream",
     "text": [
      "PLA2002MR 第89.txt\n",
      "[-114, -123, -4]\n",
      "(119, 240, 240)\n",
      "(119, 240, 240)\n",
      "[5, -79, 62]\n",
      "[6, -87, 42]\n",
      "[12, -77, -2]\n",
      "[-40, -26, 53]\n",
      "[55, -26, 58]\n",
      "[-50, -9, 63]\n",
      "[65, -10, 64]\n"
     ]
    }
   ],
   "source": [
    "# 使用的是xyz坐标\n",
    "# 在numpy中则是以zxy表示\n",
    "img_path = r'D:/Transmorph_Frame/Data/seg_need_nii/'\n",
    "index = 1\n",
    "wrong_j = [5, 6]\n",
    "with open(os.path.join(file_path + file_names[index]), \"r\") as f:\n",
    "    print(file_names[index])\n",
    "    if 'PLA' in file_names[index] and 'MR' in file_names[index]:\n",
    "        file_name = file_names[index][0:3] + '-' + file_names[index][3:9] + 'I_resampled.nii.gz'\n",
    "        img = sitk.ReadImage(os.path.join(img_path+file_name))\n",
    "        origin = img.GetOrigin()\n",
    "        img_arr = sitk.GetArrayFromImage(img)\n",
    "        shape = img_arr.shape\n",
    "    else:\n",
    "        file_name = file_names[index][0:3] + '-' + file_names[index][3:9] + '_resampled.nii.gz'\n",
    "        img = sitk.ReadImage(os.path.join(img_path+file_name))\n",
    "        origin = img.GetOrigin()\n",
    "        img_arr = sitk.GetArrayFromImage(img)\n",
    "        shape = img_arr.shape\n",
    "    origin = list(origin)\n",
    "    for j in range(3):\n",
    "        origin[j] = int(float(origin[j]) + 0.5) \n",
    "    print(origin)\n",
    "    print(shape)\n",
    "    seg = np.zeros(shape=shape)\n",
    "    print(seg.shape)\n",
    "    for i in range(9):\n",
    "        if i in wrong_j:\n",
    "            point = f.readline()\n",
    "            point = point.strip().split(\" \")\n",
    "            continue\n",
    "        else:\n",
    "            point = f.readline()\n",
    "            point = point.strip().split(\" \")\n",
    "            for j in range(3):\n",
    "                point[j] = int(float(point[j]) + 0.5) \n",
    "            seg[point[2] - origin[2], point[1] - origin[1], point[0] - origin[0]] = (i + 1)\n",
    "            print(point)\n",
    "    img_new = sitk.GetImageFromArray(seg.astype(int))\n",
    "    img_new.SetOrigin(img.GetOrigin())\n",
    "    sitk.WriteImage(img_new, os.path.join(img_path+file_name).replace('.nii', '_seg.nii'))   \n"
   ]
  },
  {
   "cell_type": "code",
   "execution_count": 14,
   "metadata": {},
   "outputs": [
    {
     "data": {
      "text/plain": [
       "True"
      ]
     },
     "execution_count": 14,
     "metadata": {},
     "output_type": "execute_result"
    }
   ],
   "source": []
  }
 ],
 "metadata": {
  "kernelspec": {
   "display_name": "transmorph",
   "language": "python",
   "name": "python3"
  },
  "language_info": {
   "codemirror_mode": {
    "name": "ipython",
    "version": 3
   },
   "file_extension": ".py",
   "mimetype": "text/x-python",
   "name": "python",
   "nbconvert_exporter": "python",
   "pygments_lexer": "ipython3",
   "version": "3.8.18"
  }
 },
 "nbformat": 4,
 "nbformat_minor": 2
}
