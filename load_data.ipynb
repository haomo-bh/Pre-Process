{
 "cells": [
  {
   "cell_type": "code",
   "execution_count": 1,
   "metadata": {},
   "outputs": [],
   "source": [
    "# import numpy as np\n",
    "# print(x.shape, y.shape)\n",
    "# print(np.max(x), np.min(x))"
   ]
  },
  {
   "cell_type": "code",
   "execution_count": 1,
   "metadata": {},
   "outputs": [],
   "source": [
    "import glob\n",
    "import numpy as np\n",
    "import pickle\n",
    "import torch\n",
    "\n",
    "def pkload(fname):\n",
    "    with open(fname, 'rb') as f:\n",
    "        return pickle.load(f)\n",
    "    \n",
    "def dice_val_VOI(y_pred, y_true):\n",
    "    pred = y_pred.detach().cpu().numpy()[0, 0, ...]\n",
    "    true = y_true.detach().cpu().numpy()[0, 0, ...]\n",
    "    pred_i = pred == 1\n",
    "    true_i = true == 1\n",
    "    intersection = pred_i * true_i\n",
    "    intersection = np.sum(intersection)\n",
    "    union = np.sum(pred_i) + np.sum(true_i)\n",
    "    dsc = (2.*intersection) / (union + 1e-5)\n",
    "    return dsc\n"
   ]
  },
  {
   "cell_type": "code",
   "execution_count": 18,
   "metadata": {},
   "outputs": [],
   "source": [
    "\n",
    "# data_path = r\"D:/Transmorph_Frame/Data/training_validation_datas_3/validation/\"\n",
    "# data_path = glob.glob(data_path + '*')\n",
    "data_path = r\"D:\\Transmorph_Frame\\Data\\training_validation_datasets_tcia\\ZJU-2131.pkl\"\n",
    "x, y, x_seg, y_seg = pkload(data_path)\n",
    "x_seg = x_seg[None, None, ...]\n",
    "y_seg = y_seg[None, None, ...]\n",
    "x_seg.astype(np.int16)\n",
    "y_seg.astype(np.int16)\n",
    "x_seg = np.ascontiguousarray(x_seg)\n",
    "y_seg = np.ascontiguousarray(y_seg)\n",
    "x_seg = torch.from_numpy(x_seg)\n",
    "y_seg = torch.from_numpy(y_seg)\n",
    "# print(x_seg.shape)\n",
    "# data_path = glob.glob(data_path + '*')\n",
    "# for data in data_path:\n",
    "#     x, y, x_seg, y_seg = pkload(data)\n",
    "#     x_seg = torch.from_numpy(x_seg).long()\n",
    "#     y_seg = torch.from_numpy(y_seg).long()\n",
    "#     print(dice_val_VOI(x_seg.long(), y_seg.long()))\n",
    "    "
   ]
  },
  {
   "cell_type": "code",
   "execution_count": 19,
   "metadata": {},
   "outputs": [
    {
     "data": {
      "text/plain": [
       "0.0"
      ]
     },
     "execution_count": 19,
     "metadata": {},
     "output_type": "execute_result"
    }
   ],
   "source": [
    "dice_val_VOI(x_seg.long(), y_seg.long())"
   ]
  },
  {
   "cell_type": "code",
   "execution_count": 13,
   "metadata": {},
   "outputs": [
    {
     "data": {
      "text/plain": [
       "'D:/Transmorph_Frame/Data/training_validation_datas_3/validation\\\\PLA-2001.pkl'"
      ]
     },
     "execution_count": 13,
     "metadata": {},
     "output_type": "execute_result"
    }
   ],
   "source": [
    "data_path[0]"
   ]
  },
  {
   "cell_type": "code",
   "execution_count": 17,
   "metadata": {},
   "outputs": [],
   "source": [
    "data_path = r'D:/Transmorph_Frame/IXI_data/Val/subject_2.pkl'\n",
    "data = pkload(data_path)"
   ]
  },
  {
   "cell_type": "code",
   "execution_count": 20,
   "metadata": {},
   "outputs": [
    {
     "data": {
      "text/plain": [
       "array([  0,   2,   3,   4,   5,   7,   8,  10,  11,  12,  13,  14,  15,\n",
       "        16,  17,  18,  24,  26,  28,  30,  31,  41,  42,  43,  44,  46,\n",
       "        47,  49,  50,  51,  52,  53,  54,  58,  60,  62,  63,  77,  85,\n",
       "       251, 252, 253, 254, 255], dtype=int16)"
      ]
     },
     "execution_count": 20,
     "metadata": {},
     "output_type": "execute_result"
    }
   ],
   "source": [
    "np.unique(data[1])"
   ]
  }
 ],
 "metadata": {
  "kernelspec": {
   "display_name": "transmorph",
   "language": "python",
   "name": "python3"
  },
  "language_info": {
   "codemirror_mode": {
    "name": "ipython",
    "version": 3
   },
   "file_extension": ".py",
   "mimetype": "text/x-python",
   "name": "python",
   "nbconvert_exporter": "python",
   "pygments_lexer": "ipython3",
   "version": "3.8.18"
  }
 },
 "nbformat": 4,
 "nbformat_minor": 2
}
