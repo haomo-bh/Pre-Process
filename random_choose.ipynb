{
 "cells": [
  {
   "cell_type": "code",
   "execution_count": 1,
   "metadata": {},
   "outputs": [],
   "source": [
    "import random\n",
    "import glob\n",
    "import shutil\n",
    "import os"
   ]
  },
  {
   "cell_type": "code",
   "execution_count": 2,
   "metadata": {},
   "outputs": [],
   "source": [
    "img_path = r\"D:/Transmorph_Frame/Data/training_validation_datas_5/train_nii/\"\n",
    "seg_path = r\"D:/Transmorph_Frame/Data/training_validation_datas_5/train_seg_nii/\"\n",
    "img_path_new = r\"D:/Transmorph_Frame/Data/training_validation_datas_5/validation_nii/\"\n",
    "seg_path_new = r\"D:/Transmorph_Frame/Data/training_validation_datas_5/validation_seg_nii/\"\n",
    "imgs = glob.glob(img_path + \"*\")\n",
    "tumors = glob.glob(seg_path + \"*\")"
   ]
  },
  {
   "cell_type": "code",
   "execution_count": 3,
   "metadata": {},
   "outputs": [
    {
     "data": {
      "text/plain": [
       "(165, 165)"
      ]
     },
     "execution_count": 3,
     "metadata": {},
     "output_type": "execute_result"
    }
   ],
   "source": [
    "len(imgs), len(tumors)"
   ]
  },
  {
   "cell_type": "code",
   "execution_count": 4,
   "metadata": {},
   "outputs": [],
   "source": [
    "imgs_num = len(imgs) // 3\n",
    "test_num_all = int(imgs_num * 0.2 + 0.5)\n",
    "for i in range(test_num_all):\n",
    "    index = random.randint(0, imgs_num)\n",
    "    for i in range(3):\n",
    "        shutil.move(imgs[index*3], img_path_new)\n",
    "        del imgs[index*3]\n",
    "        shutil.move(tumors[index*3], seg_path_new)\n",
    "        del tumors[index*3]\n",
    "    imgs_num = imgs_num - 1"
   ]
  }
 ],
 "metadata": {
  "kernelspec": {
   "display_name": "transmorph",
   "language": "python",
   "name": "python3"
  },
  "language_info": {
   "codemirror_mode": {
    "name": "ipython",
    "version": 3
   },
   "file_extension": ".py",
   "mimetype": "text/x-python",
   "name": "python",
   "nbconvert_exporter": "python",
   "pygments_lexer": "ipython3",
   "version": "3.8.18"
  }
 },
 "nbformat": 4,
 "nbformat_minor": 2
}
