{
 "cells": [
  {
   "cell_type": "code",
   "execution_count": 1,
   "metadata": {},
   "outputs": [],
   "source": [
    "import SimpleITK as sitk\n",
    "import numpy as np\n",
    "import os\n",
    "import glob"
   ]
  },
  {
   "cell_type": "code",
   "execution_count": 2,
   "metadata": {},
   "outputs": [],
   "source": [
    "image_path = r'D:/Transmorph_Frame/Data/raw_images/new_nii_files/new_nii_resampled_files/'"
   ]
  },
  {
   "cell_type": "code",
   "execution_count": 3,
   "metadata": {},
   "outputs": [],
   "source": [
    "CT_files = glob.glob(image_path + '*CT*.nii.gz')\n",
    "MR_files = glob.glob(image_path + '*MR*.nii.gz')"
   ]
  },
  {
   "cell_type": "code",
   "execution_count": 4,
   "metadata": {},
   "outputs": [
    {
     "name": "stdout",
     "output_type": "stream",
     "text": [
      "[(234, 234, 236), (220, 220, 205), (281, 281, 203), (220, 220, 229), (229, 229, 236), (290, 290, 208), (305, 305, 263), (248, 248, 236), (298, 298, 197), (320, 320, 237), (263, 263, 233), (247, 247, 235), (200, 200, 222), (280, 280, 268), (223, 223, 223), (230, 230, 233), (220, 220, 257), (304, 304, 197), (224, 224, 239), (234, 234, 216), (254, 254, 196), (205, 205, 171), (249, 249, 135), (226, 226, 151), (200, 200, 172), (230, 230, 166), (217, 217, 260), (200, 200, 165), (228, 228, 163), (233, 233, 204), (220, 220, 264), (200, 200, 145), (224, 224, 179), (284, 284, 339), (234, 234, 180), (250, 250, 259), (218, 218, 147), (250, 250, 223), (189, 189, 131), (180, 180, 179), (226, 226, 176), (229, 229, 183), (185, 185, 182), (190, 190, 179), (221, 221, 144), (258, 258, 188), (237, 236, 167), (200, 200, 144), (192, 192, 163), (232, 232, 172), (180, 180, 183), (237, 236, 163), (219, 219, 167), (228, 228, 197), (180, 180, 183), (180, 180, 179), (200, 200, 203), (232, 232, 184), (188, 188, 131), (217, 216, 167), (233, 232, 175), (252, 252, 169), (179, 160, 179), (174, 173, 151), (315, 314, 164)]\n",
      "[(240, 240, 199), (240, 240, 119), (220, 220, 155), (240, 240, 244), (276, 209, 143), (247, 230, 100), (240, 240, 235), (240, 240, 199), (220, 220, 143), (248, 230, 143), (165, 165, 85), (240, 240, 191), (247, 230, 143), (345, 229, 180), (240, 240, 216), (220, 220, 143), (220, 220, 143), (253, 279, 167), (247, 230, 143), (247, 230, 167), (180, 180, 94), (240, 200, 103), (178, 220, 79), (240, 200, 129), (207, 230, 91), (240, 240, 119), (240, 200, 129), (216, 240, 124), (240, 200, 129), (240, 200, 103), (216, 240, 131), (240, 200, 89), (240, 240, 100), (240, 200, 103), (178, 220, 87), (199, 240, 119), (240, 200, 129), (171, 219, 96), (220, 220, 99), (220, 179, 86), (240, 200, 103), (240, 240, 80), (240, 200, 95), (178, 219, 115), (220, 179, 115), (240, 200, 103), (240, 240, 89), (240, 200, 84), (220, 179, 115), (240, 240, 99), (240, 210, 129), (240, 240, 119), (240, 240, 109), (195, 240, 109), (220, 179, 92), (220, 179, 86), (240, 240, 99), (240, 200, 103), (240, 200, 103), (240, 240, 87), (240, 200, 84), (259, 259, 99), (220, 240, 89), (220, 220, 109), (240, 200, 103)]\n"
     ]
    }
   ],
   "source": [
    "CT_shape_list, MR_shape_list = [], []\n",
    "for path in CT_files:\n",
    "    image = sitk.ReadImage(path)\n",
    "    shape = image.GetSize()\n",
    "    CT_shape_list.append(shape)\n",
    "for path in MR_files:\n",
    "    image = sitk.ReadImage(path)\n",
    "    shape = image.GetSize()\n",
    "    MR_shape_list.append(shape)\n",
    "print(CT_shape_list)\n",
    "print(MR_shape_list)"
   ]
  },
  {
   "cell_type": "code",
   "execution_count": 5,
   "metadata": {},
   "outputs": [],
   "source": [
    "CT_shape_array = np.array(CT_shape_list)\n",
    "MR_shape_array = np.array(MR_shape_list)"
   ]
  },
  {
   "cell_type": "code",
   "execution_count": 6,
   "metadata": {},
   "outputs": [
    {
     "name": "stdout",
     "output_type": "stream",
     "text": [
      "CT数据的比例约为[160 159 135]\n",
      "MR数据的比例约为[160 151  84]\n"
     ]
    }
   ],
   "source": [
    "CT_proportion = np.mean(CT_shape_array, axis=0)\n",
    "MR_proportion = np.mean(MR_shape_array, axis=0)\n",
    "print(f'CT数据的比例约为{(CT_proportion / np.max(CT_proportion) * 160).astype(int)}')\n",
    "print(f'MR数据的比例约为{(MR_proportion / np.max(MR_proportion) * 160).astype(int)}')\n"
   ]
  },
  {
   "cell_type": "code",
   "execution_count": 7,
   "metadata": {},
   "outputs": [
    {
     "data": {
      "text/plain": [
       "array([174, 160, 131])"
      ]
     },
     "execution_count": 7,
     "metadata": {},
     "output_type": "execute_result"
    }
   ],
   "source": [
    "np.min(CT_shape_array, axis=0)"
   ]
  },
  {
   "cell_type": "code",
   "execution_count": 8,
   "metadata": {},
   "outputs": [
    {
     "data": {
      "text/plain": [
       "array([165, 165,  79])"
      ]
     },
     "execution_count": 8,
     "metadata": {},
     "output_type": "execute_result"
    }
   ],
   "source": [
    "np.min(MR_shape_array, axis=0)"
   ]
  }
 ],
 "metadata": {
  "kernelspec": {
   "display_name": "transmorph",
   "language": "python",
   "name": "python3"
  },
  "language_info": {
   "codemirror_mode": {
    "name": "ipython",
    "version": 3
   },
   "file_extension": ".py",
   "mimetype": "text/x-python",
   "name": "python",
   "nbconvert_exporter": "python",
   "pygments_lexer": "ipython3",
   "version": "3.8.18"
  }
 },
 "nbformat": 4,
 "nbformat_minor": 2
}
