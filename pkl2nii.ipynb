{
 "cells": [
  {
   "cell_type": "code",
   "execution_count": 1,
   "metadata": {},
   "outputs": [],
   "source": [
    "import numpy as np\n",
    "import pickle as pkl\n",
    "import SimpleITK as sitk"
   ]
  },
  {
   "cell_type": "code",
   "execution_count": 1,
   "metadata": {},
   "outputs": [],
   "source": [
    "import pickle\n",
    "def pkload(fname):\n",
    "    with open(fname, 'rb') as f:\n",
    "        return pickle.load(f)"
   ]
  },
  {
   "cell_type": "code",
   "execution_count": 3,
   "metadata": {},
   "outputs": [],
   "source": [
    "data_path = r'G:/PythonProject/TransMorph/pretrain/Data/zhejiangdaxue/test/test/ZJU-2028CT_resampled_normalized_cropped.pkl'\n",
    "img1, img2 = pkload(data_path)"
   ]
  },
  {
   "cell_type": "code",
   "execution_count": 6,
   "metadata": {},
   "outputs": [],
   "source": [
    "image1 = sitk.GetImageFromArray(img1)\n",
    "image2 = sitk.GetImageFromArray(img2)\n",
    "\n",
    "sitk.WriteImage(image1, data_path.replace('.pkl', '.nii.gz'))\n",
    "sitk.WriteImage(image2, data_path.replace('.pkl', '.nii.gz').replace('CT', 'MR'))"
   ]
  },
  {
   "cell_type": "code",
   "execution_count": 4,
   "metadata": {},
   "outputs": [],
   "source": [
    "data_path = r'G:/PythonProject/TransMorph/pretrain/Data/zhejiangdaxue/test/test/aff/'\n",
    "import glob\n",
    "files = glob.glob(data_path + \"*.pkl\")\n",
    "for file in files:\n",
    "    image = pkload(file)\n",
    "    image = sitk.GetImageFromArray(image)\n",
    "    sitk.WriteImage(image, file.replace(\".pkl\", \".nii.gz\"))"
   ]
  }
 ],
 "metadata": {
  "kernelspec": {
   "display_name": "transmorph",
   "language": "python",
   "name": "python3"
  },
  "language_info": {
   "codemirror_mode": {
    "name": "ipython",
    "version": 3
   },
   "file_extension": ".py",
   "mimetype": "text/x-python",
   "name": "python",
   "nbconvert_exporter": "python",
   "pygments_lexer": "ipython3",
   "version": "3.8.18"
  }
 },
 "nbformat": 4,
 "nbformat_minor": 2
}
