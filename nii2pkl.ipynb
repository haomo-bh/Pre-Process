{
 "cells": [
  {
   "cell_type": "code",
   "execution_count": 1,
   "metadata": {},
   "outputs": [],
   "source": [
    "import SimpleITK as sitk\n",
    "import numpy as np\n",
    "import pickle as pkl\n",
    "import os\n",
    "import glob"
   ]
  },
  {
   "cell_type": "code",
   "execution_count": 3,
   "metadata": {},
   "outputs": [],
   "source": [
    "data_path = r'D:/Transmorph_Frame/Data/training_validation_datas_5/train_nii/'\n",
    "data_new_path = r'D:/Transmorph_Frame/Data/training_validation_datas_5/train_without_seg/'\n",
    "names = os.listdir(data_path)"
   ]
  },
  {
   "cell_type": "code",
   "execution_count": 4,
   "metadata": {},
   "outputs": [],
   "source": [
    "ct_imgs = glob.glob(data_path + '*CT*.nii.gz')\n",
    "mr_imgs = glob.glob(data_path + '*MR*_resampled_normalized_cropped_warped.nii.gz')\n",
    "i = 0\n",
    "for ct_img, mr_img in zip(ct_imgs, mr_imgs):  \n",
    "    img1 = sitk.ReadImage(ct_img)\n",
    "    img1 = sitk.GetArrayFromImage(img1)\n",
    "    img2 = sitk.ReadImage(mr_img)\n",
    "    img2 = sitk.GetArrayFromImage(img2)\n",
    "    img = (img2, img1)\n",
    "    with open(data_new_path + names[i][0:8] + '.pkl', 'wb') as f:\n",
    "        pkl.dump(img, f)\n",
    "    i = i + 3"
   ]
  },
  {
   "cell_type": "code",
   "execution_count": 10,
   "metadata": {},
   "outputs": [],
   "source": [
    "image_path = r'D:/Transmorph_Frame/Data/training_validation_datas_5/validation_nii/'\n",
    "tumor_path = r'D:/Transmorph_Frame/Data/training_validation_datas_5/validation_seg_nii/'\n",
    "data_path_new = r'D:/Transmorph_Frame/Data/training_validation_datas_5/validation/'\n",
    "ct_imgs = glob.glob(image_path + '*CT*.nii.gz')\n",
    "mr_imgs = glob.glob(image_path + '*MR*_resampled_normalized_cropped.nii.gz')\n",
    "ct_tumors = glob.glob(tumor_path + '*CT*.nii.gz')\n",
    "mr_tumors = glob.glob(tumor_path + '*MR*_resampled_cropped.nii.gz')\n",
    "names = os.listdir(image_path)\n",
    "# print(names)"
   ]
  },
  {
   "cell_type": "code",
   "execution_count": 11,
   "metadata": {},
   "outputs": [],
   "source": [
    "i = 0\n",
    "for ct_img, mr_img, ct_tumor, mr_tumor in zip(ct_imgs, mr_imgs, ct_tumors, mr_tumors):  \n",
    "    img1 = sitk.ReadImage(ct_img)\n",
    "    img1 = sitk.GetArrayFromImage(img1)\n",
    "    img2 = sitk.ReadImage(mr_img)\n",
    "    img2 = sitk.GetArrayFromImage(img2)\n",
    "    img3 = sitk.ReadImage(ct_tumor)\n",
    "    img3 = sitk.GetArrayFromImage(img3)\n",
    "    img4 = sitk.ReadImage(mr_tumor)\n",
    "    img4 = sitk.GetArrayFromImage(img4)\n",
    "    img = (img2, img1, img4, img3)\n",
    "    with open(data_path_new + names[i][0:8] + '.pkl' , 'wb') as f:\n",
    "            pkl.dump(img, f)\n",
    "    i = i + 3"
   ]
  },
  {
   "cell_type": "code",
   "execution_count": 5,
   "metadata": {},
   "outputs": [],
   "source": [
    "data_path = r'D:/Transmorph_Frame/Data/training_validation_datasets_tcia/train_nii/'\n",
    "data_new_path = r'D:/Transmorph_Frame/Data/training_validation_datasets_tcia/train_without_seg/'\n",
    "names = os.listdir(data_path)"
   ]
  },
  {
   "cell_type": "code",
   "execution_count": 6,
   "metadata": {},
   "outputs": [],
   "source": [
    "ct_imgs = glob.glob(data_path + '*CT.nii.gz')\n",
    "mr_imgs = glob.glob(data_path + '*MR.nii.gz')\n",
    "i = 0\n",
    "for ct_img, mr_img in zip(ct_imgs, mr_imgs):  \n",
    "    img1 = sitk.ReadImage(ct_img)\n",
    "    img1 = sitk.GetArrayFromImage(img1)\n",
    "    img2 = sitk.ReadImage(mr_img)\n",
    "    img2 = sitk.GetArrayFromImage(img2)\n",
    "    img = (img2, img1)\n",
    "    with open(data_new_path + names[i][0:7] + '.pkl', 'wb') as f:\n",
    "        pkl.dump(img, f)\n",
    "    i = i + 2"
   ]
  },
  {
   "cell_type": "code",
   "execution_count": 2,
   "metadata": {},
   "outputs": [],
   "source": [
    "image_path = r'D:/Transmorph_Frame/Data/training_validation_datasets_tcia/test_nii/'\n",
    "tumor_path = r'D:/Transmorph_Frame/Data/training_validation_datasets_tcia/test_seg_nii/'\n",
    "data_path_new = r'D:/Transmorph_Frame/Data/training_validation_datasets_tcia/test/'\n",
    "ct_imgs = glob.glob(image_path + '*CT.nii.gz')\n",
    "mr_imgs = glob.glob(image_path + '*MR.nii.gz')\n",
    "ct_tumors = glob.glob(tumor_path + '*CT.nii.gz')\n",
    "mr_tumors = glob.glob(tumor_path + '*MR.nii.gz')\n",
    "names = os.listdir(image_path)\n",
    "# print(names)"
   ]
  },
  {
   "cell_type": "code",
   "execution_count": 4,
   "metadata": {},
   "outputs": [],
   "source": [
    "i = 0\n",
    "for ct_img, mr_img, ct_tumor, mr_tumor in zip(ct_imgs, mr_imgs, ct_tumors, mr_tumors):  \n",
    "    img1 = sitk.ReadImage(ct_img)\n",
    "    img1 = sitk.GetArrayFromImage(img1)\n",
    "    img2 = sitk.ReadImage(mr_img)\n",
    "    img2 = sitk.GetArrayFromImage(img2)\n",
    "    img3 = sitk.ReadImage(ct_tumor)\n",
    "    img3 = sitk.GetArrayFromImage(img3)\n",
    "    img4 = sitk.ReadImage(mr_tumor)\n",
    "    img4 = sitk.GetArrayFromImage(img4)\n",
    "    img = (img2, img1, img4, img3)\n",
    "    with open(data_path_new + names[i][0:7] + '.pkl' , 'wb') as f:\n",
    "            pkl.dump(img, f)\n",
    "    i = i + 2"
   ]
  }
 ],
 "metadata": {
  "kernelspec": {
   "display_name": "transmorph",
   "language": "python",
   "name": "python3"
  },
  "language_info": {
   "codemirror_mode": {
    "name": "ipython",
    "version": 3
   },
   "file_extension": ".py",
   "mimetype": "text/x-python",
   "name": "python",
   "nbconvert_exporter": "python",
   "pygments_lexer": "ipython3",
   "version": "3.8.18"
  }
 },
 "nbformat": 4,
 "nbformat_minor": 2
}
