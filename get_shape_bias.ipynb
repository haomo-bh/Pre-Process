{
 "cells": [
  {
   "cell_type": "code",
   "execution_count": 1,
   "metadata": {},
   "outputs": [],
   "source": [
    "import SimpleITK as sitk\n",
    "import numpy as np\n",
    "import glob\n",
    "import os"
   ]
  },
  {
   "cell_type": "code",
   "execution_count": 2,
   "metadata": {},
   "outputs": [],
   "source": [
    "image_path = r'D:/Transmorph_Frame/Data/raw_tumors_seg/new_nii_files/new_nii_resampled_files/'"
   ]
  },
  {
   "cell_type": "code",
   "execution_count": 3,
   "metadata": {},
   "outputs": [],
   "source": [
    "CT_tumors = glob.glob(image_path + '*CT*.nii.gz')\n",
    "MR_tumors = glob.glob(image_path + '*MR*.nii.gz')"
   ]
  },
  {
   "cell_type": "code",
   "execution_count": 4,
   "metadata": {},
   "outputs": [],
   "source": [
    "# 使用一个列表存储CT和MR的估计中心位置\n",
    "CT_bias_list, MR_bias_list = [], []\n",
    "for path in CT_tumors:\n",
    "    tumor = sitk.ReadImage(path)\n",
    "    tumor_array = sitk.GetArrayFromImage(tumor)\n",
    "    indexes = np.array(np.where(tumor_array == 1))\n",
    "    CT_bias_list.append(np.mean(indexes, axis=1).astype(int) - np.array(tumor_array.shape) / 2)\n",
    "for path in MR_tumors:\n",
    "    tumor = sitk.ReadImage(path)\n",
    "    tumor_array = sitk.GetArrayFromImage(tumor)\n",
    "    indexes = np.array(np.where(tumor_array == 1))\n",
    "    MR_bias_list.append(np.mean(indexes, axis=1).astype(int) - np.array(tumor_array.shape) / 2) "
   ]
  },
  {
   "cell_type": "code",
   "execution_count": 5,
   "metadata": {},
   "outputs": [],
   "source": [
    "CT_bias_array = np.array(CT_bias_list)\n",
    "MR_bias_array = np.array(MR_bias_list)"
   ]
  },
  {
   "cell_type": "code",
   "execution_count": 6,
   "metadata": {},
   "outputs": [],
   "source": [
    "CT_bias = np.mean(CT_bias_array, axis=0).astype(int)\n",
    "MR_bias = np.mean(MR_bias_array, axis=0).astype(int)"
   ]
  },
  {
   "cell_type": "code",
   "execution_count": 7,
   "metadata": {},
   "outputs": [
    {
     "data": {
      "text/plain": [
       "(array([  3, -23,   3]), array([  0, -34,   3]))"
      ]
     },
     "execution_count": 7,
     "metadata": {},
     "output_type": "execute_result"
    }
   ],
   "source": [
    "CT_bias, MR_bias"
   ]
  }
 ],
 "metadata": {
  "kernelspec": {
   "display_name": "transmorph",
   "language": "python",
   "name": "python3"
  },
  "language_info": {
   "codemirror_mode": {
    "name": "ipython",
    "version": 3
   },
   "file_extension": ".py",
   "mimetype": "text/x-python",
   "name": "python",
   "nbconvert_exporter": "python",
   "pygments_lexer": "ipython3",
   "version": "3.8.18"
  }
 },
 "nbformat": 4,
 "nbformat_minor": 2
}
