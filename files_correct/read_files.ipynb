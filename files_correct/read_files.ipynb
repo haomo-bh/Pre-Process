{
 "cells": [
  {
   "cell_type": "code",
   "execution_count": 24,
   "metadata": {},
   "outputs": [],
   "source": [
    "import os\n",
    "import glob\n",
    "import shutil"
   ]
  },
  {
   "cell_type": "code",
   "execution_count": 22,
   "metadata": {},
   "outputs": [],
   "source": [
    "def delete_folder(path):\n",
    "    try:\n",
    "        shutil.rmtree(path)\n",
    "        print(f\"成功删除文件夹 {path}\")\n",
    "    except OSError as e:\n",
    "        print(f\"删除文件夹 {path} 失败: {e}\")"
   ]
  },
  {
   "cell_type": "code",
   "execution_count": null,
   "metadata": {},
   "outputs": [],
   "source": [
    "def delete_file(filename):\n",
    "    if os.path.exists(filename):\n",
    "        os.remove(filename)\n",
    "        print(f\"文件 {filename} 删除成功！\")\n",
    "    else:\n",
    "        print(f\"文件 {filename} 不存在。\")"
   ]
  },
  {
   "cell_type": "code",
   "execution_count": 16,
   "metadata": {},
   "outputs": [],
   "source": [
    "# files_path = r'D:/Transmorph_Frame/Data/raw_images/'\n",
    "files_path = r'D:/Transmorph_Frame/Data/raw_tumors/'\n",
    "files_list = os.listdir(files_path)\n",
    "# paths_list = glob.glob(files_path + '*.nrrd')\n",
    "paths_list = glob.glob(files_path + '*')"
   ]
  },
  {
   "cell_type": "code",
   "execution_count": 17,
   "metadata": {},
   "outputs": [
    {
     "data": {
      "text/plain": [
       "279"
      ]
     },
     "execution_count": 17,
     "metadata": {},
     "output_type": "execute_result"
    }
   ],
   "source": [
    "len(paths_list) "
   ]
  },
  {
   "cell_type": "code",
   "execution_count": 18,
   "metadata": {},
   "outputs": [
    {
     "name": "stdout",
     "output_type": "stream",
     "text": [
      "76\n"
     ]
    }
   ],
   "source": [
    "cnt = 0\n",
    "reserve_index = []\n",
    "for i in range(len(files_list)):\n",
    "    if 'CT' in files_list[i] and 'MR' in files_list[i+1]:\n",
    "        reserve_index.extend([i, i+1])\n",
    "        cnt += 1\n",
    "print(cnt)"
   ]
  },
  {
   "cell_type": "code",
   "execution_count": 25,
   "metadata": {},
   "outputs": [
    {
     "name": "stdout",
     "output_type": "stream",
     "text": [
      "成功删除文件夹 D:/Transmorph_Frame/Data/raw_tumors\\PLA-2005MRI\n",
      "成功删除文件夹 D:/Transmorph_Frame/Data/raw_tumors\\PLA-2006MRI\n",
      "成功删除文件夹 D:/Transmorph_Frame/Data/raw_tumors\\PLA-2008MRI\n",
      "成功删除文件夹 D:/Transmorph_Frame/Data/raw_tumors\\PLA-2012MRI\n",
      "成功删除文件夹 D:/Transmorph_Frame/Data/raw_tumors\\PLA-2015MRI\n",
      "成功删除文件夹 D:/Transmorph_Frame/Data/raw_tumors\\PLA-2017MRI\n",
      "成功删除文件夹 D:/Transmorph_Frame/Data/raw_tumors\\PLA-2022MRI\n",
      "成功删除文件夹 D:/Transmorph_Frame/Data/raw_tumors\\PLA-2027MRI\n",
      "成功删除文件夹 D:/Transmorph_Frame/Data/raw_tumors\\PLA-2039MRI\n",
      "成功删除文件夹 D:/Transmorph_Frame/Data/raw_tumors\\PLA-2040MRI\n",
      "成功删除文件夹 D:/Transmorph_Frame/Data/raw_tumors\\PLA-2044MRI\n",
      "成功删除文件夹 D:/Transmorph_Frame/Data/raw_tumors\\PLA-2045MRI\n",
      "成功删除文件夹 D:/Transmorph_Frame/Data/raw_tumors\\PLA-2047MRI\n",
      "成功删除文件夹 D:/Transmorph_Frame/Data/raw_tumors\\PLA-2048MRI\n",
      "成功删除文件夹 D:/Transmorph_Frame/Data/raw_tumors\\PLA-2049MRI\n",
      "成功删除文件夹 D:/Transmorph_Frame/Data/raw_tumors\\PLA-2050MRI\n",
      "成功删除文件夹 D:/Transmorph_Frame/Data/raw_tumors\\PLA-2051MRI\n",
      "成功删除文件夹 D:/Transmorph_Frame/Data/raw_tumors\\PLA-2052MRI\n",
      "成功删除文件夹 D:/Transmorph_Frame/Data/raw_tumors\\PLA-2053CT\n",
      "成功删除文件夹 D:/Transmorph_Frame/Data/raw_tumors\\PLA-2054CT\n",
      "成功删除文件夹 D:/Transmorph_Frame/Data/raw_tumors\\PLA-2055CT\n",
      "成功删除文件夹 D:/Transmorph_Frame/Data/raw_tumors\\PLA-2056CT\n",
      "成功删除文件夹 D:/Transmorph_Frame/Data/raw_tumors\\PLA-2059CT\n",
      "成功删除文件夹 D:/Transmorph_Frame/Data/raw_tumors\\PLA-2062MRI\n",
      "成功删除文件夹 D:/Transmorph_Frame/Data/raw_tumors\\PLA-2063MRI\n",
      "成功删除文件夹 D:/Transmorph_Frame/Data/raw_tumors\\PLA-2064CT\n",
      "成功删除文件夹 D:/Transmorph_Frame/Data/raw_tumors\\PLA-2065CT\n",
      "成功删除文件夹 D:/Transmorph_Frame/Data/raw_tumors\\PLA-2066CT\n",
      "成功删除文件夹 D:/Transmorph_Frame/Data/raw_tumors\\PLA-2069MRI\n",
      "成功删除文件夹 D:/Transmorph_Frame/Data/raw_tumors\\PLA-2070MRI\n",
      "成功删除文件夹 D:/Transmorph_Frame/Data/raw_tumors\\PLA-2075MRI\n",
      "成功删除文件夹 D:/Transmorph_Frame/Data/raw_tumors\\PLA-2076MRI\n",
      "成功删除文件夹 D:/Transmorph_Frame/Data/raw_tumors\\PLA-2077CT\n",
      "成功删除文件夹 D:/Transmorph_Frame/Data/raw_tumors\\PLA-2078CT\n",
      "成功删除文件夹 D:/Transmorph_Frame/Data/raw_tumors\\PLA-2079CT\n",
      "成功删除文件夹 D:/Transmorph_Frame/Data/raw_tumors\\PLA-2080CT\n",
      "成功删除文件夹 D:/Transmorph_Frame/Data/raw_tumors\\PLA-2081CT\n",
      "成功删除文件夹 D:/Transmorph_Frame/Data/raw_tumors\\PLA-2082CT\n",
      "成功删除文件夹 D:/Transmorph_Frame/Data/raw_tumors\\PLA-2083CT\n",
      "成功删除文件夹 D:/Transmorph_Frame/Data/raw_tumors\\PLA-2084CT\n",
      "成功删除文件夹 D:/Transmorph_Frame/Data/raw_tumors\\PLA-2085CT\n",
      "成功删除文件夹 D:/Transmorph_Frame/Data/raw_tumors\\PLA-2086CT\n",
      "成功删除文件夹 D:/Transmorph_Frame/Data/raw_tumors\\PLA-2087CT\n",
      "成功删除文件夹 D:/Transmorph_Frame/Data/raw_tumors\\PLA-2088CT\n",
      "成功删除文件夹 D:/Transmorph_Frame/Data/raw_tumors\\PLA-2089CT\n",
      "成功删除文件夹 D:/Transmorph_Frame/Data/raw_tumors\\PLA-2090CT\n",
      "成功删除文件夹 D:/Transmorph_Frame/Data/raw_tumors\\PLA-2091CT\n",
      "成功删除文件夹 D:/Transmorph_Frame/Data/raw_tumors\\PLA-2092CT\n",
      "成功删除文件夹 D:/Transmorph_Frame/Data/raw_tumors\\PLA-2093CT\n",
      "成功删除文件夹 D:/Transmorph_Frame/Data/raw_tumors\\PLA-2094CT\n",
      "成功删除文件夹 D:/Transmorph_Frame/Data/raw_tumors\\PLA-2095CT\n",
      "成功删除文件夹 D:/Transmorph_Frame/Data/raw_tumors\\PLA-2096CT\n",
      "成功删除文件夹 D:/Transmorph_Frame/Data/raw_tumors\\PLA-2097CT\n",
      "成功删除文件夹 D:/Transmorph_Frame/Data/raw_tumors\\PLA-2098CT\n",
      "成功删除文件夹 D:/Transmorph_Frame/Data/raw_tumors\\PLA-2099CT\n",
      "成功删除文件夹 D:/Transmorph_Frame/Data/raw_tumors\\PLA-2100CT\n",
      "成功删除文件夹 D:/Transmorph_Frame/Data/raw_tumors\\ZJU-2015MR\n",
      "成功删除文件夹 D:/Transmorph_Frame/Data/raw_tumors\\ZJU-2038MR\n",
      "成功删除文件夹 D:/Transmorph_Frame/Data/raw_tumors\\ZJU-2039MR\n",
      "成功删除文件夹 D:/Transmorph_Frame/Data/raw_tumors\\ZJU-2040MR\n",
      "成功删除文件夹 D:/Transmorph_Frame/Data/raw_tumors\\ZJU-2041MR\n",
      "成功删除文件夹 D:/Transmorph_Frame/Data/raw_tumors\\ZJU-2042MR\n",
      "成功删除文件夹 D:/Transmorph_Frame/Data/raw_tumors\\ZJU-2043MR\n",
      "成功删除文件夹 D:/Transmorph_Frame/Data/raw_tumors\\ZJU-2044MR\n",
      "成功删除文件夹 D:/Transmorph_Frame/Data/raw_tumors\\ZJU-2045MR\n",
      "成功删除文件夹 D:/Transmorph_Frame/Data/raw_tumors\\ZJU-2046MR\n",
      "成功删除文件夹 D:/Transmorph_Frame/Data/raw_tumors\\ZJU-2047MR\n",
      "成功删除文件夹 D:/Transmorph_Frame/Data/raw_tumors\\ZJU-2048MR\n",
      "成功删除文件夹 D:/Transmorph_Frame/Data/raw_tumors\\ZJU-2049MR\n",
      "成功删除文件夹 D:/Transmorph_Frame/Data/raw_tumors\\ZJU-2050MR\n",
      "成功删除文件夹 D:/Transmorph_Frame/Data/raw_tumors\\ZJU-2051MRI\n",
      "成功删除文件夹 D:/Transmorph_Frame/Data/raw_tumors\\ZJU-2052MRI\n",
      "成功删除文件夹 D:/Transmorph_Frame/Data/raw_tumors\\ZJU-2053MRI\n",
      "成功删除文件夹 D:/Transmorph_Frame/Data/raw_tumors\\ZJU-2054MRI\n",
      "成功删除文件夹 D:/Transmorph_Frame/Data/raw_tumors\\ZJU-2055MRI\n",
      "成功删除文件夹 D:/Transmorph_Frame/Data/raw_tumors\\ZJU-2056MRI\n",
      "成功删除文件夹 D:/Transmorph_Frame/Data/raw_tumors\\ZJU-2057MRI\n",
      "成功删除文件夹 D:/Transmorph_Frame/Data/raw_tumors\\ZJU-2058MRI\n",
      "成功删除文件夹 D:/Transmorph_Frame/Data/raw_tumors\\ZJU-2059MRI\n",
      "成功删除文件夹 D:/Transmorph_Frame/Data/raw_tumors\\ZJU-2060MRI\n",
      "成功删除文件夹 D:/Transmorph_Frame/Data/raw_tumors\\ZJU-2061MRI\n",
      "成功删除文件夹 D:/Transmorph_Frame/Data/raw_tumors\\ZJU-2062MRI\n",
      "成功删除文件夹 D:/Transmorph_Frame/Data/raw_tumors\\ZJU-2063MRI\n",
      "成功删除文件夹 D:/Transmorph_Frame/Data/raw_tumors\\ZJU-2064MRI\n",
      "成功删除文件夹 D:/Transmorph_Frame/Data/raw_tumors\\ZJU-2065MRI\n",
      "成功删除文件夹 D:/Transmorph_Frame/Data/raw_tumors\\ZJU-2066MRI\n",
      "成功删除文件夹 D:/Transmorph_Frame/Data/raw_tumors\\ZJU-2068MRI\n",
      "成功删除文件夹 D:/Transmorph_Frame/Data/raw_tumors\\ZJU-2069MRI\n",
      "成功删除文件夹 D:/Transmorph_Frame/Data/raw_tumors\\ZJU-2070MRI\n",
      "成功删除文件夹 D:/Transmorph_Frame/Data/raw_tumors\\ZJU-2071MRI\n",
      "成功删除文件夹 D:/Transmorph_Frame/Data/raw_tumors\\ZJU-2072MRI\n",
      "成功删除文件夹 D:/Transmorph_Frame/Data/raw_tumors\\ZJU-2073MRI\n",
      "成功删除文件夹 D:/Transmorph_Frame/Data/raw_tumors\\ZJU-2074MRI\n",
      "成功删除文件夹 D:/Transmorph_Frame/Data/raw_tumors\\ZJU-2075MRI\n",
      "成功删除文件夹 D:/Transmorph_Frame/Data/raw_tumors\\ZJU-2076MRI\n",
      "成功删除文件夹 D:/Transmorph_Frame/Data/raw_tumors\\ZJU-2077MRI\n",
      "成功删除文件夹 D:/Transmorph_Frame/Data/raw_tumors\\ZJU-2078MRI\n",
      "成功删除文件夹 D:/Transmorph_Frame/Data/raw_tumors\\ZJU-2079MRI\n",
      "成功删除文件夹 D:/Transmorph_Frame/Data/raw_tumors\\ZJU-2080MRI\n",
      "成功删除文件夹 D:/Transmorph_Frame/Data/raw_tumors\\ZJU-2081MRI\n",
      "成功删除文件夹 D:/Transmorph_Frame/Data/raw_tumors\\ZJU-2082MRI\n",
      "成功删除文件夹 D:/Transmorph_Frame/Data/raw_tumors\\ZJU-2083MRI\n",
      "成功删除文件夹 D:/Transmorph_Frame/Data/raw_tumors\\ZJU-2084MRI\n",
      "成功删除文件夹 D:/Transmorph_Frame/Data/raw_tumors\\ZJU-2085MRI\n",
      "成功删除文件夹 D:/Transmorph_Frame/Data/raw_tumors\\ZJU-2086MRI\n",
      "成功删除文件夹 D:/Transmorph_Frame/Data/raw_tumors\\ZJU-2087MRI\n",
      "成功删除文件夹 D:/Transmorph_Frame/Data/raw_tumors\\ZJU-2088MRI\n",
      "成功删除文件夹 D:/Transmorph_Frame/Data/raw_tumors\\ZJU-2089MRI\n",
      "成功删除文件夹 D:/Transmorph_Frame/Data/raw_tumors\\ZJU-2091MRI\n",
      "成功删除文件夹 D:/Transmorph_Frame/Data/raw_tumors\\ZJU-2092MRI\n",
      "成功删除文件夹 D:/Transmorph_Frame/Data/raw_tumors\\ZJU-2093MRI\n",
      "成功删除文件夹 D:/Transmorph_Frame/Data/raw_tumors\\ZJU-2094MRI\n",
      "成功删除文件夹 D:/Transmorph_Frame/Data/raw_tumors\\ZJU-2095MRI\n",
      "成功删除文件夹 D:/Transmorph_Frame/Data/raw_tumors\\ZJU-2096MRI\n",
      "成功删除文件夹 D:/Transmorph_Frame/Data/raw_tumors\\ZJU-2097MRI\n",
      "成功删除文件夹 D:/Transmorph_Frame/Data/raw_tumors\\ZJU-2113MRI\n",
      "成功删除文件夹 D:/Transmorph_Frame/Data/raw_tumors\\ZJU-2114MRI\n",
      "成功删除文件夹 D:/Transmorph_Frame/Data/raw_tumors\\ZJU-2117MRI\n",
      "成功删除文件夹 D:/Transmorph_Frame/Data/raw_tumors\\ZJU-2118MRI\n",
      "成功删除文件夹 D:/Transmorph_Frame/Data/raw_tumors\\ZJU-2119MRI\n",
      "成功删除文件夹 D:/Transmorph_Frame/Data/raw_tumors\\ZJU-2120MRI\n",
      "成功删除文件夹 D:/Transmorph_Frame/Data/raw_tumors\\ZJU-2121MRI\n",
      "成功删除文件夹 D:/Transmorph_Frame/Data/raw_tumors\\ZJU-2123MRI\n",
      "成功删除文件夹 D:/Transmorph_Frame/Data/raw_tumors\\ZJU-2125MRI\n",
      "成功删除文件夹 D:/Transmorph_Frame/Data/raw_tumors\\ZJU-2126MRI\n",
      "成功删除文件夹 D:/Transmorph_Frame/Data/raw_tumors\\ZJU-2127MRI\n",
      "成功删除文件夹 D:/Transmorph_Frame/Data/raw_tumors\\ZJU-2128MRI\n"
     ]
    }
   ],
   "source": [
    "for i in range(len(files_list)):\n",
    "    if i not in reserve_index:\n",
    "        delete_folder(paths_list[i])\n",
    "    "
   ]
  }
 ],
 "metadata": {
  "kernelspec": {
   "display_name": "transmorph",
   "language": "python",
   "name": "python3"
  },
  "language_info": {
   "codemirror_mode": {
    "name": "ipython",
    "version": 3
   },
   "file_extension": ".py",
   "mimetype": "text/x-python",
   "name": "python",
   "nbconvert_exporter": "python",
   "pygments_lexer": "ipython3",
   "version": "3.8.18"
  }
 },
 "nbformat": 4,
 "nbformat_minor": 2
}
