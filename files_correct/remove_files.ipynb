{
 "cells": [
  {
   "cell_type": "code",
   "execution_count": 1,
   "metadata": {},
   "outputs": [],
   "source": [
    "import os\n",
    "import glob"
   ]
  },
  {
   "cell_type": "code",
   "execution_count": 2,
   "metadata": {},
   "outputs": [],
   "source": [
    "def delete_file(filename):\n",
    "    if os.path.exists(filename):\n",
    "        os.remove(filename)\n",
    "        print(f\"文件 {filename} 删除成功！\")\n",
    "    else:\n",
    "        print(f\"文件 {filename} 不存在。\")"
   ]
  },
  {
   "cell_type": "code",
   "execution_count": 3,
   "metadata": {},
   "outputs": [],
   "source": [
    "root_path = r'D:/Transmorph_Frame/Data/training_validation_datas_5/'\n",
    "files_list1 = os.listdir(root_path + 'train_seg_nii/')\n",
    "files_list2 = os.listdir(root_path + 'train_nii/')\n",
    "paths_list1 = glob.glob(root_path + 'train_seg_nii/' + '*')\n",
    "paths_list2 = glob.glob(root_path + 'train_nii/' + '*')"
   ]
  },
  {
   "cell_type": "code",
   "execution_count": 13,
   "metadata": {},
   "outputs": [],
   "source": [
    "files_list3 = []\n",
    "for i in range(len(files_list2)):\n",
    "    for j in range(len(files_list1)):\n",
    "        if files_list2[i].replace('normalized_', '') in files_list1[j]:\n",
    "            files_list3.append(j)         "
   ]
  },
  {
   "cell_type": "code",
   "execution_count": 14,
   "metadata": {},
   "outputs": [
    {
     "data": {
      "text/plain": [
       "165"
      ]
     },
     "execution_count": 14,
     "metadata": {},
     "output_type": "execute_result"
    }
   ],
   "source": [
    "len(files_list3)"
   ]
  },
  {
   "cell_type": "code",
   "execution_count": 15,
   "metadata": {},
   "outputs": [
    {
     "name": "stdout",
     "output_type": "stream",
     "text": [
      "文件 D:/Transmorph_Frame/Data/training_validation_datas_5/train_seg_nii\\ZJU-2099CT_resampled_cropped.nii.gz 删除成功！\n",
      "文件 D:/Transmorph_Frame/Data/training_validation_datas_5/train_seg_nii\\ZJU-2099MRI_resampled_cropped.nii.gz 删除成功！\n",
      "文件 D:/Transmorph_Frame/Data/training_validation_datas_5/train_seg_nii\\ZJU-2099MRI_resampled_cropped_warped.nii.gz 删除成功！\n"
     ]
    }
   ],
   "source": [
    "for i in range(len(files_list1)):\n",
    "    if i not in files_list3:\n",
    "        delete_file(paths_list1[i])"
   ]
  }
 ],
 "metadata": {
  "kernelspec": {
   "display_name": "transmorph",
   "language": "python",
   "name": "python3"
  },
  "language_info": {
   "codemirror_mode": {
    "name": "ipython",
    "version": 3
   },
   "file_extension": ".py",
   "mimetype": "text/x-python",
   "name": "python",
   "nbconvert_exporter": "python",
   "pygments_lexer": "ipython3",
   "version": "3.8.18"
  }
 },
 "nbformat": 4,
 "nbformat_minor": 2
}
