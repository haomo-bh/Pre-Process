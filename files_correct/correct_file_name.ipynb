{
 "cells": [
  {
   "cell_type": "code",
   "execution_count": 1,
   "metadata": {},
   "outputs": [],
   "source": [
    "import os\n",
    "import glob"
   ]
  },
  {
   "cell_type": "code",
   "execution_count": 2,
   "metadata": {},
   "outputs": [],
   "source": [
    "def modify_filename(old_name, new_name):\n",
    "    os.rename(old_name, new_name)"
   ]
  },
  {
   "cell_type": "code",
   "execution_count": 6,
   "metadata": {},
   "outputs": [
    {
     "name": "stdout",
     "output_type": "stream",
     "text": [
      "['PLA-2002CT', 'PLA-2032CT', 'PLA-2043CT', 'PLA-2029CT', 'PLA-2014CT', 'PLA-2036CT', '', 'PLA-2031CT', 'PLA-2030CT', 'PLA-2038CT', 'PLA-2037CT', 'PLA-2001CT', 'PLA-2028CT', 'PLA-2016CT', 'PLA-2042CT', 'PLA-2026CT', 'PLA-2046CT', 'PLA-2013CT', 'PLA-2004CT', 'PLA-2019CT', 'PLA-2033CT', 'PLA-2024CT', 'PLA-2007CT', 'PLA-2023CT', 'PLA-2041CT', 'PLA-2020CT', 'PLA-2025CT', 'PLA-2010CT', 'PLA-2035CT', 'PLA-2034CT', 'PLA-2003CT', 'PLA-2011CT', 'PLA-2021CT', 'PLA-2009CT', 'PLA-2018CT']\n",
      "['PLA-2101CT', 'PLA-2102CT', 'PLA-2103CT', 'PLA-2104CT', 'PLA-2105CT', 'PLA-2106CT', 'PLA-2107CT', 'PLA-2108CT', 'PLA-2109CT', 'PLA-2110CT', 'PLA-2111CT', 'PLA-2112CT', 'PLA-2113CT', 'PLA-2114CT', 'PLA-2115CT', 'PLA-2116CT', 'PLA-2117CT', 'PLA-2118CT', 'PLA-2119CT', 'PLA-2120CT', 'PLA-2121CT', 'PLA-2122CT', 'PLA-2123CT', 'PLA-2124CT', 'PLA-2125CT', 'PLA-2126CT', 'PLA-2127CT', 'PLA-2128CT', 'PLA-2129CT', 'PLA-2130CT', 'PLA-2131CT', 'PLA-2132CT', 'PLA-2133CT', 'PLA-2134CT', 'PLA-2135CT']\n"
     ]
    }
   ],
   "source": [
    "path = r'D:/Transmorph_Frame/Data/'\n",
    "raw1, raw2 = [], []\n",
    "with open(path + 'raw1.txt', 'r') as f:\n",
    "    raw1 = f.read().splitlines()\n",
    "print(raw1)\n",
    "with open(path + 'raw2.txt', 'r') as f:\n",
    "    raw2 = f.read().splitlines()\n",
    "print(raw2)"
   ]
  },
  {
   "cell_type": "code",
   "execution_count": 24,
   "metadata": {},
   "outputs": [
    {
     "name": "stdout",
     "output_type": "stream",
     "text": [
      "['D:/Transmorph_Frame/Data/原始肿瘤\\\\PLA-2101CT', 'D:/Transmorph_Frame/Data/原始肿瘤\\\\PLA-2102CT', 'D:/Transmorph_Frame/Data/原始肿瘤\\\\PLA-2103CT', 'D:/Transmorph_Frame/Data/原始肿瘤\\\\PLA-2104CT', 'D:/Transmorph_Frame/Data/原始肿瘤\\\\PLA-2105CT', 'D:/Transmorph_Frame/Data/原始肿瘤\\\\PLA-2106CT', 'D:/Transmorph_Frame/Data/原始肿瘤\\\\PLA-2107CT', 'D:/Transmorph_Frame/Data/原始肿瘤\\\\PLA-2108CT', 'D:/Transmorph_Frame/Data/原始肿瘤\\\\PLA-2109CT', 'D:/Transmorph_Frame/Data/原始肿瘤\\\\PLA-2110CT', 'D:/Transmorph_Frame/Data/原始肿瘤\\\\PLA-2111CT', 'D:/Transmorph_Frame/Data/原始肿瘤\\\\PLA-2112CT', 'D:/Transmorph_Frame/Data/原始肿瘤\\\\PLA-2113CT', 'D:/Transmorph_Frame/Data/原始肿瘤\\\\PLA-2114CT', 'D:/Transmorph_Frame/Data/原始肿瘤\\\\PLA-2115CT', 'D:/Transmorph_Frame/Data/原始肿瘤\\\\PLA-2116CT', 'D:/Transmorph_Frame/Data/原始肿瘤\\\\PLA-2117CT', 'D:/Transmorph_Frame/Data/原始肿瘤\\\\PLA-2118CT', 'D:/Transmorph_Frame/Data/原始肿瘤\\\\PLA-2119CT', 'D:/Transmorph_Frame/Data/原始肿瘤\\\\PLA-2120CT', 'D:/Transmorph_Frame/Data/原始肿瘤\\\\PLA-2121CT', 'D:/Transmorph_Frame/Data/原始肿瘤\\\\PLA-2122CT', 'D:/Transmorph_Frame/Data/原始肿瘤\\\\PLA-2123CT', 'D:/Transmorph_Frame/Data/原始肿瘤\\\\PLA-2124CT', 'D:/Transmorph_Frame/Data/原始肿瘤\\\\PLA-2125CT', 'D:/Transmorph_Frame/Data/原始肿瘤\\\\PLA-2126CT', 'D:/Transmorph_Frame/Data/原始肿瘤\\\\PLA-2127CT', 'D:/Transmorph_Frame/Data/原始肿瘤\\\\PLA-2128CT', 'D:/Transmorph_Frame/Data/原始肿瘤\\\\PLA-2129CT', 'D:/Transmorph_Frame/Data/原始肿瘤\\\\PLA-2130CT', 'D:/Transmorph_Frame/Data/原始肿瘤\\\\PLA-2131CT', 'D:/Transmorph_Frame/Data/原始肿瘤\\\\PLA-2132CT', 'D:/Transmorph_Frame/Data/原始肿瘤\\\\PLA-2133CT', 'D:/Transmorph_Frame/Data/原始肿瘤\\\\PLA-2134CT', 'D:/Transmorph_Frame/Data/原始肿瘤\\\\PLA-2135CT']\n"
     ]
    }
   ],
   "source": [
    "file_names = glob.glob(path + '原始肿瘤/' + '*')\n",
    "print(file_names)"
   ]
  },
  {
   "cell_type": "code",
   "execution_count": 28,
   "metadata": {},
   "outputs": [
    {
     "name": "stdout",
     "output_type": "stream",
     "text": [
      "['D:/Transmorph_Frame/Data/原始肿瘤\\\\PLA-2101CT', 'D:/Transmorph_Frame/Data/原始肿瘤\\\\PLA-2102CT', 'D:/Transmorph_Frame/Data/原始肿瘤\\\\PLA-2103CT', 'D:/Transmorph_Frame/Data/原始肿瘤\\\\PLA-2104CT', 'D:/Transmorph_Frame/Data/原始肿瘤\\\\PLA-2105CT', 'D:/Transmorph_Frame/Data/原始肿瘤\\\\PLA-2106CT', 'D:/Transmorph_Frame/Data/原始肿瘤\\\\PLA-2107CT', 'D:/Transmorph_Frame/Data/原始肿瘤\\\\PLA-2108CT', 'D:/Transmorph_Frame/Data/原始肿瘤\\\\PLA-2109CT', 'D:/Transmorph_Frame/Data/原始肿瘤\\\\PLA-2110CT', 'D:/Transmorph_Frame/Data/原始肿瘤\\\\PLA-2111CT', 'D:/Transmorph_Frame/Data/原始肿瘤\\\\PLA-2112CT', 'D:/Transmorph_Frame/Data/原始肿瘤\\\\PLA-2113CT', 'D:/Transmorph_Frame/Data/原始肿瘤\\\\PLA-2114CT', 'D:/Transmorph_Frame/Data/原始肿瘤\\\\PLA-2115CT', 'D:/Transmorph_Frame/Data/原始肿瘤\\\\PLA-2116CT', 'D:/Transmorph_Frame/Data/原始肿瘤\\\\PLA-2117CT', 'D:/Transmorph_Frame/Data/原始肿瘤\\\\PLA-2118CT', 'D:/Transmorph_Frame/Data/原始肿瘤\\\\PLA-2119CT', 'D:/Transmorph_Frame/Data/原始肿瘤\\\\PLA-2120CT', 'D:/Transmorph_Frame/Data/原始肿瘤\\\\PLA-2121CT', 'D:/Transmorph_Frame/Data/原始肿瘤\\\\PLA-2122CT', 'D:/Transmorph_Frame/Data/原始肿瘤\\\\PLA-2123CT', 'D:/Transmorph_Frame/Data/原始肿瘤\\\\PLA-2124CT', 'D:/Transmorph_Frame/Data/原始肿瘤\\\\PLA-2125CT', 'D:/Transmorph_Frame/Data/原始肿瘤\\\\PLA-2126CT', 'D:/Transmorph_Frame/Data/原始肿瘤\\\\PLA-2127CT', 'D:/Transmorph_Frame/Data/原始肿瘤\\\\PLA-2128CT', 'D:/Transmorph_Frame/Data/原始肿瘤\\\\PLA-2129CT', 'D:/Transmorph_Frame/Data/原始肿瘤\\\\PLA-2130CT', 'D:/Transmorph_Frame/Data/原始肿瘤\\\\PLA-2131CT', 'D:/Transmorph_Frame/Data/原始肿瘤\\\\PLA-2132CT', 'D:/Transmorph_Frame/Data/原始肿瘤\\\\PLA-2133CT', 'D:/Transmorph_Frame/Data/原始肿瘤\\\\PLA-2134CT', 'D:/Transmorph_Frame/Data/原始肿瘤\\\\PLA-2135CT']\n",
      "['D:/Transmorph_Frame/Data/原始肿瘤\\\\PLA-2002CT', 'D:/Transmorph_Frame/Data/原始肿瘤\\\\PLA-2032CT', 'D:/Transmorph_Frame/Data/原始肿瘤\\\\PLA-2043CT', 'D:/Transmorph_Frame/Data/原始肿瘤\\\\PLA-2029CT', 'D:/Transmorph_Frame/Data/原始肿瘤\\\\PLA-2014CT', 'D:/Transmorph_Frame/Data/原始肿瘤\\\\PLA-2036CT', 'D:/Transmorph_Frame/Data/原始肿瘤\\\\PLA-2107CT', 'D:/Transmorph_Frame/Data/原始肿瘤\\\\PLA-2031CT', 'D:/Transmorph_Frame/Data/原始肿瘤\\\\PLA-2030CT', 'D:/Transmorph_Frame/Data/原始肿瘤\\\\PLA-2038CT', 'D:/Transmorph_Frame/Data/原始肿瘤\\\\PLA-2037CT', 'D:/Transmorph_Frame/Data/原始肿瘤\\\\PLA-2001CT', 'D:/Transmorph_Frame/Data/原始肿瘤\\\\PLA-2028CT', 'D:/Transmorph_Frame/Data/原始肿瘤\\\\PLA-2016CT', 'D:/Transmorph_Frame/Data/原始肿瘤\\\\PLA-2042CT', 'D:/Transmorph_Frame/Data/原始肿瘤\\\\PLA-2026CT', 'D:/Transmorph_Frame/Data/原始肿瘤\\\\PLA-2046CT', 'D:/Transmorph_Frame/Data/原始肿瘤\\\\PLA-2013CT', 'D:/Transmorph_Frame/Data/原始肿瘤\\\\PLA-2004CT', 'D:/Transmorph_Frame/Data/原始肿瘤\\\\PLA-2019CT', 'D:/Transmorph_Frame/Data/原始肿瘤\\\\PLA-2033CT', 'D:/Transmorph_Frame/Data/原始肿瘤\\\\PLA-2024CT', 'D:/Transmorph_Frame/Data/原始肿瘤\\\\PLA-2007CT', 'D:/Transmorph_Frame/Data/原始肿瘤\\\\PLA-2023CT', 'D:/Transmorph_Frame/Data/原始肿瘤\\\\PLA-2041CT', 'D:/Transmorph_Frame/Data/原始肿瘤\\\\PLA-2020CT', 'D:/Transmorph_Frame/Data/原始肿瘤\\\\PLA-2025CT', 'D:/Transmorph_Frame/Data/原始肿瘤\\\\PLA-2010CT', 'D:/Transmorph_Frame/Data/原始肿瘤\\\\PLA-2035CT', 'D:/Transmorph_Frame/Data/原始肿瘤\\\\PLA-2034CT', 'D:/Transmorph_Frame/Data/原始肿瘤\\\\PLA-2003CT', 'D:/Transmorph_Frame/Data/原始肿瘤\\\\PLA-2011CT', 'D:/Transmorph_Frame/Data/原始肿瘤\\\\PLA-2021CT', 'D:/Transmorph_Frame/Data/原始肿瘤\\\\PLA-2009CT', 'D:/Transmorph_Frame/Data/原始肿瘤\\\\PLA-2018CT']\n"
     ]
    }
   ],
   "source": [
    "file_names_new = file_names.copy()\n",
    "for i in range(len(raw1)):\n",
    "    if raw1[i] != '':\n",
    "        file_names_new[i] = file_names[i].replace(raw2[i], raw1[i])\n",
    "print(file_names)\n",
    "print(file_names_new)"
   ]
  },
  {
   "cell_type": "code",
   "execution_count": 30,
   "metadata": {},
   "outputs": [],
   "source": [
    "for i in range(len(file_names)):\n",
    "    modify_filename(file_names[i], file_names_new[i])"
   ]
  }
 ],
 "metadata": {
  "kernelspec": {
   "display_name": "transmorph",
   "language": "python",
   "name": "python3"
  },
  "language_info": {
   "codemirror_mode": {
    "name": "ipython",
    "version": 3
   },
   "file_extension": ".py",
   "mimetype": "text/x-python",
   "name": "python",
   "nbconvert_exporter": "python",
   "pygments_lexer": "ipython3",
   "version": "3.8.18"
  }
 },
 "nbformat": 4,
 "nbformat_minor": 2
}
