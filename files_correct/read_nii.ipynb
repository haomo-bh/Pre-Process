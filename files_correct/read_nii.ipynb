{
 "cells": [
  {
   "cell_type": "code",
   "execution_count": 8,
   "metadata": {},
   "outputs": [],
   "source": [
    "import numpy as np\n",
    "import SimpleITK as sitk"
   ]
  },
  {
   "cell_type": "code",
   "execution_count": 9,
   "metadata": {},
   "outputs": [],
   "source": [
    "nii_path = r'D:\\Transmorph_Frame\\Data\\training_validation_datas\\train_nii/PLA-2001MRI_resampled_cropped_normalized.nii.gz'\n",
    "nii_image = sitk.ReadImage(nii_path)\n",
    "nii_array = sitk.GetArrayFromImage(nii_image)"
   ]
  },
  {
   "cell_type": "code",
   "execution_count": 10,
   "metadata": {},
   "outputs": [],
   "source": [
    "# np.unique(nii_array)\n",
    "nii_array = nii_array + 10\n",
    "nii_image = sitk.GetImageFromArray(nii_array)\n",
    "sitk.WriteImage(nii_image, nii_path)"
   ]
  }
 ],
 "metadata": {
  "kernelspec": {
   "display_name": "transmorph",
   "language": "python",
   "name": "python3"
  },
  "language_info": {
   "codemirror_mode": {
    "name": "ipython",
    "version": 3
   },
   "file_extension": ".py",
   "mimetype": "text/x-python",
   "name": "python",
   "nbconvert_exporter": "python",
   "pygments_lexer": "ipython3",
   "version": "3.8.18"
  }
 },
 "nbformat": 4,
 "nbformat_minor": 2
}
